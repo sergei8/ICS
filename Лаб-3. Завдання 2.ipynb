{
 "cells": [
  {
   "cell_type": "markdown",
   "metadata": {},
   "source": [
    "#  Лабораторна робота №3\n",
    "### практичне завдання 2 \n",
    "***"
   ]
  },
  {
   "cell_type": "markdown",
   "metadata": {},
   "source": [
    "### Функції: простір імен (namespace) та область видимости (scope)\n",
    "\n",
    "__Функція__ - це блок програмного коду, який виконує деяку ізольовану задачу і може викликатись з іншого місця програми.\n",
    "\n",
    "[Докладніше про функції](https://uk.wikipedia.org/wiki/Підпрограма)\n",
    "\n",
    "_Функція_ характерізується наступними _властивостями_ :\n",
    "\n",
    "- __ім'я__ - символічне посилання по якому функція викликається\n",
    "- __аргументи__(параметри) - список об'єктів, які передаються в функцію ззовні\n",
    "- __значення, що повертаються__ - об'єкти, які повертає функція перед тим, як завершити свою роботу "
   ]
  },
  {
   "cell_type": "code",
   "execution_count": 13,
   "metadata": {},
   "outputs": [],
   "source": [
    "def some_func(arg1, arg2):\n",
    "    ''' Це якась функція'''\n",
    "    a = arg1 * arg2\n",
    "    return a\n"
   ]
  },
  {
   "cell_type": "code",
   "execution_count": 3,
   "metadata": {
    "scrolled": true
   },
   "outputs": [
    {
     "data": {
      "text/plain": [
       "(function, 4444183296)"
      ]
     },
     "execution_count": 3,
     "metadata": {},
     "output_type": "execute_result"
    }
   ],
   "source": [
    "type(some_func), id(some_func)"
   ]
  },
  {
   "cell_type": "code",
   "execution_count": 9,
   "metadata": {},
   "outputs": [
    {
     "name": "stdout",
     "output_type": "stream",
     "text": [
      "['__annotations__', '__call__', '__class__', '__closure__', '__code__', '__defaults__', '__delattr__', '__dict__', '__dir__', '__doc__', '__eq__', '__format__', '__ge__', '__get__', '__getattribute__', '__globals__', '__gt__', '__hash__', '__init__', '__init_subclass__', '__kwdefaults__', '__le__', '__lt__', '__module__', '__name__', '__ne__', '__new__', '__qualname__', '__reduce__', '__reduce_ex__', '__repr__', '__setattr__', '__sizeof__', '__str__', '__subclasshook__']\n"
     ]
    }
   ],
   "source": [
    "print(dir(some_func))"
   ]
  },
  {
   "cell_type": "code",
   "execution_count": 10,
   "metadata": {
    "scrolled": true
   },
   "outputs": [
    {
     "data": {
      "text/plain": [
       "(' Це якась функція',\n",
       " 'some_func',\n",
       " <code object some_func at 0x10915a660, file \"<ipython-input-6-282af7d8d8b8>\", line 1>,\n",
       " '__main__')"
      ]
     },
     "execution_count": 10,
     "metadata": {},
     "output_type": "execute_result"
    }
   ],
   "source": [
    "some_func.__doc__, some_func.__name__, some_func.__code__, some_func.__module__"
   ]
  },
  {
   "cell_type": "code",
   "execution_count": 15,
   "metadata": {},
   "outputs": [
    {
     "name": "stdout",
     "output_type": "stream",
     "text": [
      "['', 'type(some_func), id(some_func)', \"def some_func(arg1, arg2):\\n    ''' Це якась функція'''\\n    a = arg1 * 2\\n    return a    \", 'type(some_func), id(some_func)', \"def some_func(arg1, arg2):\\n    ''' Це якась функція'''\\n    a = arg1 * 2\\n    return a \\n    a = 3\", 'some_func(2, 2)', \"def some_func(arg1, arg2):\\n    ''' Це якась функція'''\\n    a = arg1 * arg2\\n    return a \\n    a = 8888\", 'some_func(2, 2)', 'some_func(2, 4)', 'print(dir(some_func))', 'some_func.__doc__, some_func.__name__, some_func.__code__, some_func.__module__', 'print(some_func.__globals__[\"_ih\"][1])', 'print(some_func.__globals__[\"_ih\"])', \"def some_func(arg1, arg2):\\n    ''' Це якась функція'''\\n    a = arg1 * arg2\\n    return a \", 'print(some_func.__globals__[\"_ih\"])', 'print(some_func.__globals__[\"_ih\"])']\n"
     ]
    }
   ],
   "source": [
    "print(some_func.__globals__[\"_ih\"])"
   ]
  },
  {
   "cell_type": "markdown",
   "metadata": {},
   "source": [
    "___ім'я функції___ - будь-яке припустиме ім'я python-змінної\n",
    "\n",
    "___аргументи функції___ - будь-які об'єкти _python_ (можуть бути відсутні)\n",
    "\n",
    "Два типи аргументів:\n",
    "1. __Позиціоновані__ ```def f (arg1, \"John\", 123): ```\n",
    "2. __Іменовані__ ``` def f (name = \"John\", par = 123): ```\n",
    "\n",
    "__Правило:__ спочатку записуються позиціоновані аргументи, потім іменовані\n",
    "\n",
    "__Значення що повертається__ - будь який припустимий об'єкт чи перелік об'єктів який йде після ```return```, або нічого \n",
    "\n",
    "##### return завжди завершує виконання функції\n",
    "\n",
    "#### функція - це БЛОЧНА структура\n"
   ]
  },
  {
   "cell_type": "code",
   "execution_count": 15,
   "metadata": {},
   "outputs": [],
   "source": [
    "def f1 (aa = 10, n = 1):\n",
    "    c = \"ccc\"\n",
    "    #print(n, aa, c)\n",
    "    for i in [1,2,3]:\n",
    "        print(i)\n",
    "    return aa\n",
    "    "
   ]
  },
  {
   "cell_type": "code",
   "execution_count": 16,
   "metadata": {},
   "outputs": [
    {
     "name": "stdout",
     "output_type": "stream",
     "text": [
      "1\n",
      "2\n",
      "3\n"
     ]
    },
    {
     "data": {
      "text/plain": [
       "10"
      ]
     },
     "execution_count": 16,
     "metadata": {},
     "output_type": "execute_result"
    }
   ],
   "source": [
    "f1()"
   ]
  },
  {
   "cell_type": "markdown",
   "metadata": {},
   "source": [
    "#### Простір імен - це словник (dict), який вміщує посилання на об'єкти, що знаходяться всередині блоку\n",
    "\n",
    "__Типи__ namespace:\n",
    "\n",
    "1. Вбудований (Builtins) - створюється при запуску Python\n",
    "2. Глобальний (Global) - створюється при запуску програмного модуля\n",
    "3. Локальний (Local) - створюється для кожного блока програми (def, for, with, ...)\n",
    "4. Огорожений (Enclosed) - створюється коли є вкдаденість блоків\n",
    "\n"
   ]
  },
  {
   "cell_type": "code",
   "execution_count": 12,
   "metadata": {
    "code_folding": []
   },
   "outputs": [
    {
     "name": "stdout",
     "output_type": "stream",
     "text": [
      "['ArithmeticError', 'AssertionError', 'AttributeError', 'BaseException', 'BlockingIOError', 'BrokenPipeError', 'BufferError', 'BytesWarning', 'ChildProcessError', 'ConnectionAbortedError', 'ConnectionError', 'ConnectionRefusedError', 'ConnectionResetError', 'DeprecationWarning', 'EOFError', 'Ellipsis', 'EnvironmentError', 'Exception', 'False', 'FileExistsError', 'FileNotFoundError', 'FloatingPointError', 'FutureWarning', 'GeneratorExit', 'IOError', 'ImportError', 'ImportWarning', 'IndentationError', 'IndexError', 'InterruptedError', 'IsADirectoryError', 'KeyError', 'KeyboardInterrupt', 'LookupError', 'MemoryError', 'ModuleNotFoundError', 'NameError', 'None', 'NotADirectoryError', 'NotImplemented', 'NotImplementedError', 'OSError', 'OverflowError', 'PendingDeprecationWarning', 'PermissionError', 'ProcessLookupError', 'RecursionError', 'ReferenceError', 'ResourceWarning', 'RuntimeError', 'RuntimeWarning', 'StopAsyncIteration', 'StopIteration', 'SyntaxError', 'SyntaxWarning', 'SystemError', 'SystemExit', 'TabError', 'TimeoutError', 'True', 'TypeError', 'UnboundLocalError', 'UnicodeDecodeError', 'UnicodeEncodeError', 'UnicodeError', 'UnicodeTranslateError', 'UnicodeWarning', 'UserWarning', 'ValueError', 'Warning', 'ZeroDivisionError', '__IPYTHON__', '__build_class__', '__debug__', '__doc__', '__import__', '__loader__', '__name__', '__package__', '__spec__', 'abs', 'all', 'any', 'ascii', 'bin', 'bool', 'breakpoint', 'bytearray', 'bytes', 'callable', 'chr', 'classmethod', 'compile', 'complex', 'copyright', 'credits', 'delattr', 'dict', 'dir', 'display', 'divmod', 'enumerate', 'eval', 'exec', 'filter', 'float', 'format', 'frozenset', 'get_ipython', 'getattr', 'globals', 'hasattr', 'hash', 'help', 'hex', 'id', 'input', 'int', 'isinstance', 'issubclass', 'iter', 'len', 'license', 'list', 'locals', 'map', 'max', 'memoryview', 'min', 'next', 'object', 'oct', 'open', 'ord', 'pow', 'print', 'property', 'range', 'repr', 'reversed', 'round', 'set', 'setattr', 'slice', 'sorted', 'staticmethod', 'str', 'sum', 'super', 'tuple', 'type', 'vars', 'zip']\n"
     ]
    }
   ],
   "source": [
    "# Вбудований namespace\n",
    "print(dir(__builtins__))"
   ]
  },
  {
   "cell_type": "code",
   "execution_count": 17,
   "metadata": {
    "scrolled": true
   },
   "outputs": [
    {
     "name": "stdout",
     "output_type": "stream",
     "text": [
      "['In', 'Out', '_', '_11', '_16', '__', '___', '__builtin__', '__builtins__', '__doc__', '__loader__', '__name__', '__package__', '__spec__', '_dh', '_i', '_i1', '_i10', '_i11', '_i12', '_i13', '_i14', '_i15', '_i16', '_i17', '_i2', '_i3', '_i4', '_i5', '_i6', '_i7', '_i8', '_i9', '_ih', '_ii', '_iii', '_oh', 'exit', 'f', 'f1', 'get_ipython', 'json', 'quit', 'yapf_reformat']\n"
     ]
    }
   ],
   "source": [
    "# Глобальний namespace\n",
    "print(dir())"
   ]
  },
  {
   "cell_type": "code",
   "execution_count": 19,
   "metadata": {},
   "outputs": [],
   "source": [
    "def f (a, n = 1):\n",
    "    c = \"ccc\"\n",
    "    print(n, a, c)\n",
    "    # Локальний namespace\n",
    "    print(dir())"
   ]
  },
  {
   "cell_type": "code",
   "execution_count": 20,
   "metadata": {},
   "outputs": [
    {
     "name": "stdout",
     "output_type": "stream",
     "text": [
      "1 123 ccc\n",
      "['a', 'c', 'n']\n"
     ]
    }
   ],
   "source": [
    "f(123)"
   ]
  },
  {
   "cell_type": "code",
   "execution_count": 1,
   "metadata": {},
   "outputs": [],
   "source": [
    "# Глобальний об'єкт\n",
    "x = [111, 222]\n",
    "\n",
    "def f (a, b = 1):\n",
    "    c = \"ccc\"\n",
    "    \n",
    "    # вкладений блок\n",
    "    def g ():\n",
    "        d = 999\n",
    "        # x = 0\n",
    "#         print(\"Функція g:\")\n",
    "#         print('\\t',a, b, c, d, x)\n",
    "#         print('\\t', dir(),'\\n')\n",
    "    \n",
    "    g()\n",
    "    # x = -999\n",
    "#     print(\"Функція f:\")\n",
    "#     print(a, b, c, x)\n",
    "#     print(dir())\n"
   ]
  },
  {
   "cell_type": "code",
   "execution_count": 2,
   "metadata": {},
   "outputs": [
    {
     "name": "stdout",
     "output_type": "stream",
     "text": [
      "Функція g:\n",
      "\t 123 1 ccc 999 [111, 222]\n",
      "\t ['a', 'b', 'c', 'd'] \n",
      "\n",
      "Функція f:\n",
      "123 1 ccc [111, 222]\n",
      "['a', 'b', 'c', 'g']\n"
     ]
    }
   ],
   "source": [
    "f(123)"
   ]
  },
  {
   "cell_type": "markdown",
   "metadata": {},
   "source": [
    "#### Область видимості (scope)  - це блок коду де об'єкт є доступним\n",
    "\n",
    "__Scope__ діє __тільки__ для функцій, моодулів та класів"
   ]
  },
  {
   "cell_type": "code",
   "execution_count": 7,
   "metadata": {},
   "outputs": [
    {
     "name": "stdout",
     "output_type": "stream",
     "text": [
      "13\n"
     ]
    }
   ],
   "source": [
    "x1 = 10\n",
    "for x in [1, 2, 3]:\n",
    "    #x = 0\n",
    "    x1 += 1\n",
    "\n",
    "print(x1)"
   ]
  },
  {
   "cell_type": "markdown",
   "metadata": {},
   "source": [
    "### Модулі та пакети"
   ]
  },
  {
   "cell_type": "markdown",
   "metadata": {},
   "source": [
    "__Модуль__ - це програмний код, який містить функції об'єднані для вирішення якоїсь задачі\n",
    "\n",
    "__Пакет__ - це сукупність модулів, що знаходяться в одній директорії в якій додатково розміщується файл с назвою __init.py__\n",
    "\n",
    "[Докладніше про модулі і пакети](https://devpractice.ru/python-lesson-13-modules-and-packages/)\n",
    "\n",
    "В [Стандартній бібліотеці Python](https://docs.python.org/3/library/) наведено перелік модулів, які доступні по замовченню\n",
    "\n",
    "Інші модулі треба завантажувати та інсталювати з офіційного репозиторію python-модулів [PyPi](https://pypi.org). Завантаження виконується за допомогою пакетного менеджера [pip](https://pythonworld.ru/osnovy/pip.html)"
   ]
  },
  {
   "cell_type": "code",
   "execution_count": 1,
   "metadata": {},
   "outputs": [],
   "source": [
    "# підключення модулів до програмного коду\n",
    "import math"
   ]
  },
  {
   "cell_type": "code",
   "execution_count": 4,
   "metadata": {},
   "outputs": [],
   "source": [
    "import pandas"
   ]
  },
  {
   "cell_type": "code",
   "execution_count": null,
   "metadata": {},
   "outputs": [],
   "source": [
    "math.__doc__"
   ]
  },
  {
   "cell_type": "code",
   "execution_count": 5,
   "metadata": {},
   "outputs": [
    {
     "name": "stdout",
     "output_type": "stream",
     "text": [
      "['Categorical', 'CategoricalDtype', 'CategoricalIndex', 'DataFrame', 'DateOffset', 'DatetimeIndex', 'DatetimeTZDtype', 'ExcelFile', 'ExcelWriter', 'Float64Index', 'Grouper', 'HDFStore', 'Index', 'IndexSlice', 'Int16Dtype', 'Int32Dtype', 'Int64Dtype', 'Int64Index', 'Int8Dtype', 'Interval', 'IntervalDtype', 'IntervalIndex', 'MultiIndex', 'NaT', 'NamedAgg', 'Period', 'PeriodDtype', 'PeriodIndex', 'RangeIndex', 'Series', 'SparseArray', 'SparseDataFrame', 'SparseDtype', 'SparseSeries', 'Timedelta', 'TimedeltaIndex', 'Timestamp', 'UInt16Dtype', 'UInt32Dtype', 'UInt64Dtype', 'UInt64Index', 'UInt8Dtype', '__builtins__', '__cached__', '__doc__', '__docformat__', '__file__', '__getattr__', '__git_version__', '__loader__', '__name__', '__package__', '__path__', '__spec__', '__version__', '_config', '_hashtable', '_lib', '_libs', '_np_version_under1p14', '_np_version_under1p15', '_np_version_under1p16', '_np_version_under1p17', '_tslib', '_typing', '_version', 'api', 'array', 'arrays', 'bdate_range', 'compat', 'concat', 'core', 'crosstab', 'cut', 'date_range', 'datetime', 'describe_option', 'errors', 'eval', 'factorize', 'get_dummies', 'get_option', 'infer_freq', 'interval_range', 'io', 'isna', 'isnull', 'lreshape', 'melt', 'merge', 'merge_asof', 'merge_ordered', 'notna', 'notnull', 'np', 'offsets', 'option_context', 'options', 'pandas', 'period_range', 'pivot', 'pivot_table', 'plotting', 'qcut', 'read_clipboard', 'read_csv', 'read_excel', 'read_feather', 'read_fwf', 'read_gbq', 'read_hdf', 'read_html', 'read_json', 'read_msgpack', 'read_parquet', 'read_pickle', 'read_sas', 'read_spss', 'read_sql', 'read_sql_query', 'read_sql_table', 'read_stata', 'read_table', 'reset_option', 'set_eng_float_format', 'set_option', 'show_versions', 'test', 'testing', 'timedelta_range', 'to_datetime', 'to_msgpack', 'to_numeric', 'to_pickle', 'to_timedelta', 'tseries', 'unique', 'util', 'value_counts', 'wide_to_long']\n"
     ]
    }
   ],
   "source": [
    "print(dir(pandas))"
   ]
  },
  {
   "cell_type": "code",
   "execution_count": 7,
   "metadata": {},
   "outputs": [
    {
     "data": {
      "text/plain": [
       "7.787902559391432"
      ]
     },
     "execution_count": 7,
     "metadata": {},
     "output_type": "execute_result"
    }
   ],
   "source": [
    "# підключення окремої функції з модуля\n",
    "from math import log2 \n",
    "log2(221)"
   ]
  },
  {
   "cell_type": "code",
   "execution_count": null,
   "metadata": {},
   "outputs": [],
   "source": []
  }
 ],
 "metadata": {
  "kernelspec": {
   "display_name": "Python 3",
   "language": "python",
   "name": "python3"
  },
  "language_info": {
   "codemirror_mode": {
    "name": "ipython",
    "version": 3
   },
   "file_extension": ".py",
   "mimetype": "text/x-python",
   "name": "python",
   "nbconvert_exporter": "python",
   "pygments_lexer": "ipython3",
   "version": "3.7.4"
  }
 },
 "nbformat": 4,
 "nbformat_minor": 2
}
