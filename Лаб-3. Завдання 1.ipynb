{
 "cells": [
  {
   "cell_type": "markdown",
   "metadata": {},
   "source": [
    "```\n",
    "BEGIN ASSIGNMENT\n",
    "init_cell: false\n",
    "export_cell: true\n",
    "```"
   ]
  },
  {
   "cell_type": "markdown",
   "metadata": {},
   "source": [
    "#  Лабораторна робота №3\n",
    "### практичне завдання 1 \n",
    "***"
   ]
  },
  {
   "cell_type": "markdown",
   "metadata": {},
   "source": [
    "## Словники - Dictionary\n",
    "\n",
    "__Словник__ - це _послідовна_ структура даних, кожний елемент якої є парою \"__ключ : зачення__\" (key-value) та записується в фігурних дужках через кому:\n",
    "\n",
    "slovnik = {key1:value1, key2:value2, ... keyN:valueN}\n",
    "\n",
    "\n",
    "<pre>slovnik = {int_num : 123,\n",
    "           stroka: \"John\",\n",
    "           some_list:[1,2,3],\n",
    "           \"const\":100}</pre>\n",
    "\n",
    "[Докладніше про словники в Python](https://devpractice.ru/python-lesson-9-dict/)"
   ]
  },
  {
   "cell_type": "code",
   "execution_count": 22,
   "metadata": {},
   "outputs": [
    {
     "data": {
      "text/plain": [
       "3456"
      ]
     },
     "execution_count": 22,
     "metadata": {},
     "output_type": "execute_result"
    }
   ],
   "source": [
    "hash(\"123ab6\") & 4000"
   ]
  },
  {
   "cell_type": "code",
   "execution_count": null,
   "metadata": {},
   "outputs": [],
   "source": []
  },
  {
   "cell_type": "code",
   "execution_count": null,
   "metadata": {},
   "outputs": [],
   "source": []
  },
  {
   "cell_type": "code",
   "execution_count": null,
   "metadata": {},
   "outputs": [],
   "source": []
  },
  {
   "cell_type": "code",
   "execution_count": null,
   "metadata": {},
   "outputs": [],
   "source": []
  },
  {
   "cell_type": "code",
   "execution_count": null,
   "metadata": {},
   "outputs": [],
   "source": []
  },
  {
   "cell_type": "code",
   "execution_count": null,
   "metadata": {},
   "outputs": [],
   "source": []
  },
  {
   "cell_type": "markdown",
   "metadata": {},
   "source": [
    "__Способи створення словників__\n",
    "1. статичний\n",
    "2. фунціональний"
   ]
  },
  {
   "cell_type": "code",
   "execution_count": null,
   "metadata": {},
   "outputs": [],
   "source": [
    "# в першому випадку змінній присвоюється заздалегідь визначена структура:\n",
    "\n",
    "name=\"some_key\"\n",
    "some_value = \"Smith\"\n",
    "\n",
    "static_slovnik = {\n",
    "           \"int_num\" : 123,\n",
    "           \"stroka\": \"John\",\n",
    "           \"some_list\" : [1,2,3],\n",
    "           \"const\" : 100,\n",
    "           11 : 12,\n",
    "           name : some_value}\n",
    "\n",
    "# ВАЖЛИВО! ключі - повинні бути заздалегідь визначеними константами"
   ]
  },
  {
   "cell_type": "code",
   "execution_count": null,
   "metadata": {},
   "outputs": [],
   "source": [
    "# в другому випадку пари 'ключ-значення' передаються \n",
    "# в функцію-конструктор `dict`\n",
    "\n",
    "func_slovnik = dict(int_num = 123,\n",
    "                    stroka = \"John\",\n",
    "                    some_list = [1,2,3],\n",
    "                    const = 100,\n",
    "                    name = some_value) \n",
    "\n",
    "# ВАЖЛИВО! ключем може бути тільки змінна"
   ]
  },
  {
   "cell_type": "code",
   "execution_count": null,
   "metadata": {},
   "outputs": [],
   "source": [
    "# пустий словник\n",
    "empty_dict = {}\n",
    "\n",
    "# або\n",
    "empty_dict_1 = dict()"
   ]
  },
  {
   "cell_type": "markdown",
   "metadata": {},
   "source": [
    "#### словник, як і список - є _змінним_ обїєктом"
   ]
  },
  {
   "cell_type": "code",
   "execution_count": null,
   "metadata": {},
   "outputs": [],
   "source": [
    "print(empty_dict, id(empty_dict))\n",
    "print(empty_dict_1, id(empty_dict_1))"
   ]
  },
  {
   "cell_type": "code",
   "execution_count": null,
   "metadata": {},
   "outputs": [],
   "source": [
    "l = []\n",
    "l1 = list()\n",
    "print (l, id(l))\n",
    "print (l1, id(l1))"
   ]
  },
  {
   "cell_type": "markdown",
   "metadata": {},
   "source": [
    "на відмінність від  кортежів:"
   ]
  },
  {
   "cell_type": "code",
   "execution_count": null,
   "metadata": {},
   "outputs": [],
   "source": [
    "k = ()\n",
    "k1 = tuple()\n",
    "print (k, id(k))\n",
    "print (k1, id(k1))"
   ]
  },
  {
   "cell_type": "markdown",
   "metadata": {},
   "source": [
    "<dir style=\"background-color: cyan\">\n",
    "<b>Словник</b> - це <i>масив</i>/список індексами якого є <b>хеш-значення</b>. \n",
    "\n",
    "Такий масив ще називають <i>асоціативним масивом</i>\n",
    "</dir>"
   ]
  },
  {
   "cell_type": "code",
   "execution_count": null,
   "metadata": {},
   "outputs": [],
   "source": [
    "d = {\"John\": \"US, New York\",\n",
    "    \"Vovan\" : \"RU, Muxosransk\"}"
   ]
  },
  {
   "cell_type": "code",
   "execution_count": null,
   "metadata": {},
   "outputs": [],
   "source": [
    "for k, v in d.items():\n",
    "    print(\"key=\", k, '\\t', \"value=\",v)"
   ]
  },
  {
   "cell_type": "code",
   "execution_count": null,
   "metadata": {},
   "outputs": [],
   "source": [
    "l = [\"NY, Broadway 1\", \"RU, Muxosransk\"]"
   ]
  },
  {
   "cell_type": "code",
   "execution_count": null,
   "metadata": {},
   "outputs": [],
   "source": [
    "for i, v in enumerate(l):\n",
    "    print(\"index=\", i, '\\t', \"value=\",v)"
   ]
  },
  {
   "cell_type": "markdown",
   "metadata": {},
   "source": [
    "#### принцип створення хеш-значень (хеш функція)"
   ]
  },
  {
   "cell_type": "markdown",
   "metadata": {},
   "source": [
    "#### операції з словниками"
   ]
  },
  {
   "cell_type": "code",
   "execution_count": null,
   "metadata": {},
   "outputs": [],
   "source": [
    "# словники будуть рівними якщо УСІ пари 'ключ-значення рівні'\n",
    "\n",
    "d1 = {\"k1\" : 1, \"k2\" : 2 }\n",
    "d2 = dict(k1 = 1, k2 = 2)\n",
    "print(d1 == d2)\n",
    "\n",
    "# ВАЖЛИВО! словники не можна перевіряти на 'більш-менш'"
   ]
  },
  {
   "cell_type": "code",
   "execution_count": null,
   "metadata": {},
   "outputs": [],
   "source": [
    "print('== ', d1 == d2)\n",
    "# але:\n",
    "print('is ', d1 is d2)  # оператор 'is' порівнює 'id'"
   ]
  },
  {
   "cell_type": "code",
   "execution_count": null,
   "metadata": {},
   "outputs": [],
   "source": [
    "print(dir(dict))"
   ]
  },
  {
   "cell_type": "markdown",
   "metadata": {},
   "source": [
    "#### доступ до елементів словника"
   ]
  },
  {
   "cell_type": "code",
   "execution_count": null,
   "metadata": {},
   "outputs": [],
   "source": [
    "print(d1, end = '\\t')\n",
    "print (\"k1 = \", d1['k1'])\n",
    "\n",
    "d1['k1'] = \"John\"\n",
    "print(d1)\n",
    "\n",
    "d1['k3'] = \"Smith\"\n",
    "print(d1)"
   ]
  },
  {
   "cell_type": "markdown",
   "metadata": {},
   "source": [
    "#### функції для роботи з словниками"
   ]
  },
  {
   "cell_type": "code",
   "execution_count": null,
   "metadata": {
    "scrolled": true
   },
   "outputs": [],
   "source": [
    "# методи (функції) притаманні виключно словникам\n",
    "print(dir(dict))"
   ]
  },
  {
   "cell_type": "code",
   "execution_count": null,
   "metadata": {},
   "outputs": [],
   "source": [
    "# вивід усіх ключів словника\n",
    "d1.keys()"
   ]
  },
  {
   "cell_type": "code",
   "execution_count": null,
   "metadata": {},
   "outputs": [],
   "source": [
    "# вивід усіх значень словника\n",
    "d1.values()"
   ]
  },
  {
   "cell_type": "code",
   "execution_count": null,
   "metadata": {},
   "outputs": [],
   "source": [
    "# вивід усіх пар 'ключ-значення' у вигляді списка кортежів\n",
    "d1.items()"
   ]
  },
  {
   "cell_type": "code",
   "execution_count": null,
   "metadata": {},
   "outputs": [],
   "source": [
    "# видалення елемента словника по ключу \n",
    "d1.pop(\"k1\", \"ключ не знайден\")"
   ]
  },
  {
   "cell_type": "markdown",
   "metadata": {
    "heading_collapsed": true
   },
   "source": [
    "## Множини\n",
    "\n",
    "__множина__ - це об'єкт(тип) Python, який містить послідовність унікальних (такі, які не повторюються) елементів _незмінного_ типу (str, int, ...) \n",
    "\n",
    "<pre>\n",
    "m = {1, '1', -3.14, True, None, (1,2,3) }\n",
    "</pre>\n",
    "\n",
    "множини є __змінними__ об'єктами\n",
    "\n",
    "[Докладніше про множини в Python](https://pythonworld.ru/tipy-dannyx-v-python/mnozhestva-set-i-frozenset.html)"
   ]
  },
  {
   "cell_type": "code",
   "execution_count": null,
   "metadata": {
    "hidden": true,
    "scrolled": true
   },
   "outputs": [],
   "source": [
    "# так \n",
    "m = {1, 2}\n",
    "\n",
    "# або\n",
    "m = set([1, 2])\n",
    "\n",
    "print(type(m))"
   ]
  },
  {
   "cell_type": "code",
   "execution_count": null,
   "metadata": {
    "hidden": true
   },
   "outputs": [],
   "source": [
    "m = {1, 2}\n",
    "print(m, id(m))\n",
    "m.add(3)\n",
    "print(m, id(m))"
   ]
  },
  {
   "cell_type": "code",
   "execution_count": null,
   "metadata": {
    "hidden": true
   },
   "outputs": [],
   "source": [
    "k = (1, 2)\n",
    "print(k, id(k))\n",
    "k += (3,)\n",
    "print(k, id(k))"
   ]
  },
  {
   "cell_type": "code",
   "execution_count": null,
   "metadata": {
    "hidden": true,
    "scrolled": false
   },
   "outputs": [],
   "source": [
    "print(dir(m))"
   ]
  }
 ],
 "metadata": {
  "kernelspec": {
   "display_name": "Python 3",
   "language": "python",
   "name": "python3"
  },
  "language_info": {
   "codemirror_mode": {
    "name": "ipython",
    "version": 3
   },
   "file_extension": ".py",
   "mimetype": "text/x-python",
   "name": "python",
   "nbconvert_exporter": "python",
   "pygments_lexer": "ipython3",
   "version": "3.7.4"
  }
 },
 "nbformat": 4,
 "nbformat_minor": 2
}
