{
 "cells": [
  {
   "cell_type": "markdown",
   "metadata": {},
   "source": [
    "#  Лабораторна робота №3\n",
    "### практичне завдання 1 \n",
    "***"
   ]
  },
  {
   "cell_type": "markdown",
   "metadata": {},
   "source": [
    "## Словники - Dictionary\n",
    "\n",
    "__Словник__ - це _послідовна_ структура даних, кожний елемент якої є парою \"__ключ : зачення__\" (key-value) та записується в фігурних дужках через кому:\n",
    "\n",
    "slovnik = {key1:value1, key2:value2, ... keyN:valueN}\n",
    "\n",
    "\n",
    "<pre>slovnik = {int_num : 123,\n",
    "           stroka: \"John\",\n",
    "           some_list:[1,2,3],\n",
    "           \"const\":100}</pre>\n",
    "\n",
    "[Докладніше про словники в Python](https://devpractice.ru/python-lesson-9-dict/)"
   ]
  },
  {
   "cell_type": "code",
   "execution_count": 1,
   "metadata": {},
   "outputs": [],
   "source": [
    "l = list(range(10000000))"
   ]
  },
  {
   "cell_type": "code",
   "execution_count": 2,
   "metadata": {},
   "outputs": [
    {
     "data": {
      "text/plain": [
       "10000000"
      ]
     },
     "execution_count": 2,
     "metadata": {},
     "output_type": "execute_result"
    }
   ],
   "source": [
    "len(l)"
   ]
  },
  {
   "cell_type": "code",
   "execution_count": 3,
   "metadata": {},
   "outputs": [],
   "source": [
    "l[0] = 99999\n",
    "l[686786] = 88888"
   ]
  },
  {
   "cell_type": "markdown",
   "metadata": {},
   "source": [
    "__Способи створення словників__\n",
    "1. статичний\n",
    "2. фунціональний"
   ]
  },
  {
   "cell_type": "code",
   "execution_count": 9,
   "metadata": {},
   "outputs": [],
   "source": [
    "# в першому випадку змінній присвоюється заздалегідь визначена структура:\n",
    "\n",
    "name=\"some_key\"\n",
    "some_value = \"Smith\"\n",
    "\n",
    "static_slovnik = {\n",
    "           \"int_num\" : 123,\n",
    "           \"stroka\": \"John\",\n",
    "           \"some_list\" : [1,2,3],\n",
    "           \"const\" : 100,\n",
    "           -100.1 : 12,\n",
    "           name : some_value}\n",
    "\n",
    "# ВАЖЛИВО! ключі - повинні бути заздалегідь визначеними константами"
   ]
  },
  {
   "cell_type": "code",
   "execution_count": 10,
   "metadata": {},
   "outputs": [
    {
     "data": {
      "text/plain": [
       "{'int_num': 123,\n",
       " 'stroka': 'John',\n",
       " 'some_list': [1, 2, 3],\n",
       " 'const': 100,\n",
       " -100.1: 12,\n",
       " 'some_key': 'Smith'}"
      ]
     },
     "execution_count": 10,
     "metadata": {},
     "output_type": "execute_result"
    }
   ],
   "source": [
    "static_slovnik"
   ]
  },
  {
   "cell_type": "code",
   "execution_count": 14,
   "metadata": {},
   "outputs": [],
   "source": [
    "# в другому випадку пари 'ключ-значення' передаються \n",
    "# в функцію-конструктор `dict`: де 'ключ' - параметр, який отримає 'значення'\n",
    "\n",
    "func_slovnik = dict(int_num = 123,\n",
    "                    stroka = \"John\",\n",
    "                    some_list = [1,2,3],\n",
    "                    const = 100,\n",
    "                    name = some_value) \n",
    "\n",
    "# ВАЖЛИВО! ім'я параметра стає іменем ключа у вигляді строки!"
   ]
  },
  {
   "cell_type": "code",
   "execution_count": 12,
   "metadata": {},
   "outputs": [
    {
     "data": {
      "text/plain": [
       "{'int_num': 123,\n",
       " 'stroka': 'John',\n",
       " 'some_list': [1, 2, 3],\n",
       " 'const': 100,\n",
       " 'name': 'Smith'}"
      ]
     },
     "execution_count": 12,
     "metadata": {},
     "output_type": "execute_result"
    }
   ],
   "source": [
    "func_slovnik"
   ]
  },
  {
   "cell_type": "code",
   "execution_count": 17,
   "metadata": {},
   "outputs": [],
   "source": [
    "# пустий словник\n",
    "empty_dict = {}\n",
    "\n",
    "# або\n",
    "empty_dict_1 = dict()"
   ]
  },
  {
   "cell_type": "code",
   "execution_count": 18,
   "metadata": {},
   "outputs": [
    {
     "data": {
      "text/plain": [
       "{}"
      ]
     },
     "execution_count": 18,
     "metadata": {},
     "output_type": "execute_result"
    }
   ],
   "source": [
    "empty_dict"
   ]
  },
  {
   "cell_type": "markdown",
   "metadata": {},
   "source": [
    "#### словник, як і список - є _змінним_ обїєктом"
   ]
  },
  {
   "cell_type": "code",
   "execution_count": 19,
   "metadata": {},
   "outputs": [
    {
     "name": "stdout",
     "output_type": "stream",
     "text": [
      "{} 4910918864\n",
      "{} 4910349120\n"
     ]
    }
   ],
   "source": [
    "print(empty_dict, id(empty_dict))\n",
    "print(empty_dict_1, id(empty_dict_1))"
   ]
  },
  {
   "cell_type": "code",
   "execution_count": 20,
   "metadata": {},
   "outputs": [
    {
     "name": "stdout",
     "output_type": "stream",
     "text": [
      "[] 4911214096\n",
      "[] 4910400048\n"
     ]
    }
   ],
   "source": [
    "l = []\n",
    "l1 = list()\n",
    "print (l, id(l))\n",
    "print (l1, id(l1))"
   ]
  },
  {
   "cell_type": "markdown",
   "metadata": {},
   "source": [
    "на відмінність від  кортежів:"
   ]
  },
  {
   "cell_type": "code",
   "execution_count": 8,
   "metadata": {},
   "outputs": [],
   "source": [
    "k = ()\n",
    "k1 = tuple()\n",
    "print (k, id(k))\n",
    "print (k1, id(k1))"
   ]
  },
  {
   "cell_type": "markdown",
   "metadata": {},
   "source": [
    "<dir style=\"background-color: cyan\">\n",
    "<b>Словник</b> - це <i>масив</i>/список індексами якого є <b>хеш-значення</b>. \n",
    "\n",
    "Такий масив ще називають <i>асоціативним масивом</i> чи <i>хеш-таблицей</i>\n",
    "</dir>"
   ]
  },
  {
   "cell_type": "code",
   "execution_count": 22,
   "metadata": {},
   "outputs": [],
   "source": [
    "d = {\"John\"  : \"US, New York\",\n",
    "     \"Vovan\" : \"RU, Muxosransk\"}"
   ]
  },
  {
   "cell_type": "code",
   "execution_count": 23,
   "metadata": {},
   "outputs": [
    {
     "name": "stdout",
     "output_type": "stream",
     "text": [
      "key= John \t value= US, New York\n",
      "key= Vovan \t value= RU, Muxosransk\n"
     ]
    }
   ],
   "source": [
    "for k, v in d.items():\n",
    "    print(\"key=\", k, '\\t', \"value=\",v)"
   ]
  },
  {
   "cell_type": "code",
   "execution_count": 24,
   "metadata": {
    "code_folding": []
   },
   "outputs": [],
   "source": [
    "l = [\"NY, Broadway 1\", \n",
    "     \"RU, Muxosransk\"]"
   ]
  },
  {
   "cell_type": "code",
   "execution_count": 25,
   "metadata": {
    "code_folding": []
   },
   "outputs": [
    {
     "name": "stdout",
     "output_type": "stream",
     "text": [
      "index= 0 \t value= NY, Broadway 1\n",
      "index= 1 \t value= RU, Muxosransk\n"
     ]
    }
   ],
   "source": [
    "for i, v in enumerate(l):\n",
    "    print(\"index=\", i, '\\t', \"value=\",v)"
   ]
  },
  {
   "cell_type": "markdown",
   "metadata": {},
   "source": [
    "#### принцип створення хеш-значень (хеш функція)\n",
    "\n",
    "[прочитати про хеш-функції](http://ruslan.rv.ua/python-essential/methodologies/hash/)"
   ]
  },
  {
   "cell_type": "code",
   "execution_count": 26,
   "metadata": {},
   "outputs": [
    {
     "name": "stdout",
     "output_type": "stream",
     "text": [
      "['ArithmeticError', 'AssertionError', 'AttributeError', 'BaseException', 'BlockingIOError', 'BrokenPipeError', 'BufferError', 'BytesWarning', 'ChildProcessError', 'ConnectionAbortedError', 'ConnectionError', 'ConnectionRefusedError', 'ConnectionResetError', 'DeprecationWarning', 'EOFError', 'Ellipsis', 'EnvironmentError', 'Exception', 'False', 'FileExistsError', 'FileNotFoundError', 'FloatingPointError', 'FutureWarning', 'GeneratorExit', 'IOError', 'ImportError', 'ImportWarning', 'IndentationError', 'IndexError', 'InterruptedError', 'IsADirectoryError', 'KeyError', 'KeyboardInterrupt', 'LookupError', 'MemoryError', 'ModuleNotFoundError', 'NameError', 'None', 'NotADirectoryError', 'NotImplemented', 'NotImplementedError', 'OSError', 'OverflowError', 'PendingDeprecationWarning', 'PermissionError', 'ProcessLookupError', 'RecursionError', 'ReferenceError', 'ResourceWarning', 'RuntimeError', 'RuntimeWarning', 'StopAsyncIteration', 'StopIteration', 'SyntaxError', 'SyntaxWarning', 'SystemError', 'SystemExit', 'TabError', 'TimeoutError', 'True', 'TypeError', 'UnboundLocalError', 'UnicodeDecodeError', 'UnicodeEncodeError', 'UnicodeError', 'UnicodeTranslateError', 'UnicodeWarning', 'UserWarning', 'ValueError', 'Warning', 'ZeroDivisionError', '__IPYTHON__', '__build_class__', '__debug__', '__doc__', '__import__', '__loader__', '__name__', '__package__', '__spec__', 'abs', 'all', 'any', 'ascii', 'bin', 'bool', 'breakpoint', 'bytearray', 'bytes', 'callable', 'chr', 'classmethod', 'compile', 'complex', 'copyright', 'credits', 'delattr', 'dict', 'dir', 'display', 'divmod', 'enumerate', 'eval', 'exec', 'filter', 'float', 'format', 'frozenset', 'get_ipython', 'getattr', 'globals', 'hasattr', 'hash', 'help', 'hex', 'id', 'input', 'int', 'isinstance', 'issubclass', 'iter', 'len', 'license', 'list', 'locals', 'map', 'max', 'memoryview', 'min', 'next', 'object', 'oct', 'open', 'ord', 'pow', 'print', 'property', 'range', 'repr', 'reversed', 'round', 'set', 'setattr', 'slice', 'sorted', 'staticmethod', 'str', 'sum', 'super', 'tuple', 'type', 'vars', 'zip']\n"
     ]
    }
   ],
   "source": [
    "print(dir(__builtins__))"
   ]
  },
  {
   "cell_type": "code",
   "execution_count": 14,
   "metadata": {},
   "outputs": [],
   "source": [
    "d, id(d), id('John'), id(d['Me']), id(\"a\")"
   ]
  },
  {
   "cell_type": "code",
   "execution_count": 34,
   "metadata": {},
   "outputs": [],
   "source": [
    "h = hash('John')"
   ]
  },
  {
   "cell_type": "code",
   "execution_count": 35,
   "metadata": {},
   "outputs": [
    {
     "data": {
      "text/plain": [
       "-7336029946327636035"
      ]
     },
     "execution_count": 35,
     "metadata": {},
     "output_type": "execute_result"
    }
   ],
   "source": [
    "h"
   ]
  },
  {
   "cell_type": "code",
   "execution_count": 36,
   "metadata": {},
   "outputs": [
    {
     "data": {
      "text/plain": [
       "4999700992"
      ]
     },
     "execution_count": 36,
     "metadata": {},
     "output_type": "execute_result"
    }
   ],
   "source": [
    "h & 5_000_000_000"
   ]
  },
  {
   "cell_type": "code",
   "execution_count": 37,
   "metadata": {},
   "outputs": [
    {
     "data": {
      "text/plain": [
       "<memory at 0x10ba3aef0>"
      ]
     },
     "execution_count": 37,
     "metadata": {},
     "output_type": "execute_result"
    }
   ],
   "source": [
    "memoryview('John'.encode())"
   ]
  },
  {
   "cell_type": "markdown",
   "metadata": {},
   "source": [
    "#### операції з словниками"
   ]
  },
  {
   "cell_type": "code",
   "execution_count": 46,
   "metadata": {},
   "outputs": [
    {
     "name": "stdout",
     "output_type": "stream",
     "text": [
      "True\n"
     ]
    }
   ],
   "source": [
    "# словники будуть рівними якщо УСІ пари 'ключ-значення рівні'\n",
    "\n",
    "d1 = {\"k2\" : 2, \"k1\" : 1 }\n",
    "d2 = dict(k1 = 1, k2 = 2)\n",
    "print(d1 == d2)\n",
    "\n",
    "# ВАЖЛИВО! словники не можна перевіряти на 'більш-менш'"
   ]
  },
  {
   "cell_type": "code",
   "execution_count": 47,
   "metadata": {},
   "outputs": [
    {
     "name": "stdout",
     "output_type": "stream",
     "text": [
      "==  True\n",
      "is  False\n"
     ]
    }
   ],
   "source": [
    "print('== ', d1 == d2)\n",
    "# але:\n",
    "print('is ', d1 is d2)  # оператор 'is' порівнює 'id'"
   ]
  },
  {
   "cell_type": "code",
   "execution_count": 21,
   "metadata": {},
   "outputs": [],
   "source": [
    "print(dir(dict))"
   ]
  },
  {
   "cell_type": "markdown",
   "metadata": {},
   "source": [
    "#### доступ до елементів словника"
   ]
  },
  {
   "cell_type": "code",
   "execution_count": 48,
   "metadata": {},
   "outputs": [
    {
     "name": "stdout",
     "output_type": "stream",
     "text": [
      "{'k2': 2, 'k1': 1}\tk1 =  1\n",
      "{'k2': 2, 'k1': 'John'}\n",
      "{'k2': 2, 'k1': 'John', 'k3': 'Smith'}\n"
     ]
    }
   ],
   "source": [
    "print(d1, end = '\\t')\n",
    "print (\"k1 = \", d1['k1'])\n",
    "\n",
    "d1['k1'] = \"John\"\n",
    "print(d1)\n",
    "\n",
    "d1['k3'] = \"Smith\"\n",
    "print(d1)"
   ]
  },
  {
   "cell_type": "markdown",
   "metadata": {},
   "source": [
    "#### функції для роботи з словниками"
   ]
  },
  {
   "cell_type": "code",
   "execution_count": 49,
   "metadata": {
    "scrolled": true
   },
   "outputs": [
    {
     "name": "stdout",
     "output_type": "stream",
     "text": [
      "['__class__', '__contains__', '__delattr__', '__delitem__', '__dir__', '__doc__', '__eq__', '__format__', '__ge__', '__getattribute__', '__getitem__', '__gt__', '__hash__', '__init__', '__init_subclass__', '__iter__', '__le__', '__len__', '__lt__', '__ne__', '__new__', '__reduce__', '__reduce_ex__', '__repr__', '__setattr__', '__setitem__', '__sizeof__', '__str__', '__subclasshook__', 'clear', 'copy', 'fromkeys', 'get', 'items', 'keys', 'pop', 'popitem', 'setdefault', 'update', 'values']\n"
     ]
    }
   ],
   "source": [
    "# методи (функції) притаманні виключно словникам\n",
    "print(dir(dict))"
   ]
  },
  {
   "cell_type": "code",
   "execution_count": 50,
   "metadata": {},
   "outputs": [
    {
     "data": {
      "text/plain": [
       "dict_keys(['k2', 'k1', 'k3'])"
      ]
     },
     "execution_count": 50,
     "metadata": {},
     "output_type": "execute_result"
    }
   ],
   "source": [
    "# вивід усіх ключів словника\n",
    "d1.keys()"
   ]
  },
  {
   "cell_type": "code",
   "execution_count": 51,
   "metadata": {},
   "outputs": [
    {
     "data": {
      "text/plain": [
       "dict_values([2, 'John', 'Smith'])"
      ]
     },
     "execution_count": 51,
     "metadata": {},
     "output_type": "execute_result"
    }
   ],
   "source": [
    "# вивід усіх значень словника\n",
    "d1.values()"
   ]
  },
  {
   "cell_type": "code",
   "execution_count": 52,
   "metadata": {},
   "outputs": [
    {
     "data": {
      "text/plain": [
       "dict_items([('k2', 2), ('k1', 'John'), ('k3', 'Smith')])"
      ]
     },
     "execution_count": 52,
     "metadata": {},
     "output_type": "execute_result"
    }
   ],
   "source": [
    "# вивід усіх пар 'ключ-значення' у вигляді списка кортежів\n",
    "d1.items()"
   ]
  },
  {
   "cell_type": "code",
   "execution_count": 63,
   "metadata": {},
   "outputs": [],
   "source": [
    "d1['k1111'] = 'wwww'"
   ]
  },
  {
   "cell_type": "code",
   "execution_count": 60,
   "metadata": {},
   "outputs": [
    {
     "data": {
      "text/plain": [
       "{'k3': 'Smith', 'k4': 'wwww'}"
      ]
     },
     "execution_count": 60,
     "metadata": {},
     "output_type": "execute_result"
    }
   ],
   "source": [
    "d1"
   ]
  },
  {
   "cell_type": "code",
   "execution_count": 62,
   "metadata": {},
   "outputs": [
    {
     "data": {
      "text/plain": [
       "'ключ не знайден'"
      ]
     },
     "execution_count": 62,
     "metadata": {},
     "output_type": "execute_result"
    }
   ],
   "source": [
    "# видалення елемента словника по ключу \n",
    "d1.pop(\"k2\", \"ключ не знайден\")"
   ]
  },
  {
   "cell_type": "markdown",
   "metadata": {},
   "source": [
    "## Множини\n",
    "\n",
    "__множина__ - це об'єкт(тип) Python, який містить послідовність унікальних (такі, які не повторюються) елементів _незмінного_ (такого, який має __хеш__) типу (str, int, ...) \n",
    "\n",
    "<pre>\n",
    "m = {1, '1', -3.14, True, None, (1,2,3) }\n",
    "</pre>\n",
    "\n",
    "множини є __змінними__ об'єктами\n",
    "\n",
    "[Докладніше про множини в Python](https://pythonworld.ru/tipy-dannyx-v-python/mnozhestva-set-i-frozenset.html)"
   ]
  },
  {
   "cell_type": "code",
   "execution_count": 70,
   "metadata": {},
   "outputs": [
    {
     "data": {
      "text/plain": [
       "2528502973977326415"
      ]
     },
     "execution_count": 70,
     "metadata": {},
     "output_type": "execute_result"
    }
   ],
   "source": [
    "hash((1,2,3))"
   ]
  },
  {
   "cell_type": "code",
   "execution_count": 67,
   "metadata": {
    "scrolled": true
   },
   "outputs": [
    {
     "ename": "TypeError",
     "evalue": "unhashable type: 'list'",
     "output_type": "error",
     "traceback": [
      "\u001b[0;31m---------------------------------------------------------------------------\u001b[0m",
      "\u001b[0;31mTypeError\u001b[0m                                 Traceback (most recent call last)",
      "\u001b[0;32m<ipython-input-67-96d2f5d1f2d1>\u001b[0m in \u001b[0;36m<module>\u001b[0;34m\u001b[0m\n\u001b[0;32m----> 1\u001b[0;31m \u001b[0mm\u001b[0m \u001b[0;34m=\u001b[0m \u001b[0;34m{\u001b[0m\u001b[0;36m1\u001b[0m\u001b[0;34m,\u001b[0m \u001b[0;34m'1'\u001b[0m\u001b[0;34m,\u001b[0m \u001b[0;34m-\u001b[0m\u001b[0;36m3.14\u001b[0m\u001b[0;34m,\u001b[0m \u001b[0;32mTrue\u001b[0m\u001b[0;34m,\u001b[0m \u001b[0;32mNone\u001b[0m\u001b[0;34m,\u001b[0m \u001b[0;34m[\u001b[0m\u001b[0;36m1\u001b[0m\u001b[0;34m,\u001b[0m\u001b[0;36m2\u001b[0m\u001b[0;34m,\u001b[0m\u001b[0;36m3\u001b[0m\u001b[0;34m]\u001b[0m \u001b[0;34m}\u001b[0m\u001b[0;34m\u001b[0m\u001b[0;34m\u001b[0m\u001b[0m\n\u001b[0m",
      "\u001b[0;31mTypeError\u001b[0m: unhashable type: 'list'"
     ]
    }
   ],
   "source": [
    "m = {1, '1', -3.14, True, None, [1,2,3] }"
   ]
  },
  {
   "cell_type": "code",
   "execution_count": 66,
   "metadata": {},
   "outputs": [
    {
     "data": {
      "text/plain": [
       "(set, {(1, 2, 3), -3.14, 1, '1', None})"
      ]
     },
     "execution_count": 66,
     "metadata": {},
     "output_type": "execute_result"
    }
   ],
   "source": [
    "type(m), m"
   ]
  },
  {
   "cell_type": "code",
   "execution_count": 71,
   "metadata": {
    "scrolled": true
   },
   "outputs": [
    {
     "name": "stdout",
     "output_type": "stream",
     "text": [
      "<class 'set'>\n"
     ]
    }
   ],
   "source": [
    "# Створити множник можна так \n",
    "m = {1, 2}\n",
    "\n",
    "# або через функцію-конструктор\n",
    "m = set([1, 2])\n",
    "\n",
    "print(type(m))"
   ]
  },
  {
   "cell_type": "code",
   "execution_count": 72,
   "metadata": {},
   "outputs": [
    {
     "name": "stdout",
     "output_type": "stream",
     "text": [
      "{1, 2} 4911347424\n",
      "{1, 2, 3} 4911347424\n"
     ]
    }
   ],
   "source": [
    "m = {1, 2}\n",
    "print(m, id(m))\n",
    "m.add(3)\n",
    "print(m, id(m))"
   ]
  },
  {
   "cell_type": "code",
   "execution_count": 73,
   "metadata": {},
   "outputs": [
    {
     "name": "stdout",
     "output_type": "stream",
     "text": [
      "(1, 2) 4489440624\n",
      "(1, 2, 3) 4907318960\n"
     ]
    }
   ],
   "source": [
    "k = (1, 2)\n",
    "print(k, id(k))\n",
    "k += (3,)\n",
    "print(k, id(k))"
   ]
  },
  {
   "cell_type": "markdown",
   "metadata": {},
   "source": [
    "#### операції та функції роботи з множинами"
   ]
  },
  {
   "cell_type": "code",
   "execution_count": 74,
   "metadata": {
    "scrolled": false
   },
   "outputs": [
    {
     "name": "stdout",
     "output_type": "stream",
     "text": [
      "['__and__', '__class__', '__contains__', '__delattr__', '__dir__', '__doc__', '__eq__', '__format__', '__ge__', '__getattribute__', '__gt__', '__hash__', '__iand__', '__init__', '__init_subclass__', '__ior__', '__isub__', '__iter__', '__ixor__', '__le__', '__len__', '__lt__', '__ne__', '__new__', '__or__', '__rand__', '__reduce__', '__reduce_ex__', '__repr__', '__ror__', '__rsub__', '__rxor__', '__setattr__', '__sizeof__', '__str__', '__sub__', '__subclasshook__', '__xor__', 'add', 'clear', 'copy', 'difference', 'difference_update', 'discard', 'intersection', 'intersection_update', 'isdisjoint', 'issubset', 'issuperset', 'pop', 'remove', 'symmetric_difference', 'symmetric_difference_update', 'union', 'update']\n"
     ]
    }
   ],
   "source": [
    "print(dir(m))"
   ]
  },
  {
   "cell_type": "code",
   "execution_count": 78,
   "metadata": {},
   "outputs": [
    {
     "name": "stdout",
     "output_type": "stream",
     "text": [
      "{2, 3, 44, 765}\n"
     ]
    }
   ],
   "source": [
    "l = [3, 2, 44, 765,44, 3]\n",
    "set_l = set(l)\n",
    "print(set_l)"
   ]
  },
  {
   "cell_type": "code",
   "execution_count": 79,
   "metadata": {},
   "outputs": [
    {
     "name": "stdout",
     "output_type": "stream",
     "text": [
      "{'a', 'c', 'b'}\n"
     ]
    }
   ],
   "source": [
    "d = dict(a=3, b=1, c=2)\n",
    "set_d = set(d)\n",
    "print(set_d)"
   ]
  },
  {
   "cell_type": "code",
   "execution_count": 80,
   "metadata": {},
   "outputs": [
    {
     "name": "stdout",
     "output_type": "stream",
     "text": [
      "{'M', 's', 'f', 'p', 'u', 'a', 'l', 'i', '.', 'N', 'c', 'L', 'g', 'm', 'b', 't', ',', 'r', 'd', 'o', 'n', 'e', ' '}\n"
     ]
    }
   ],
   "source": [
    "s = \"Lorem ipsum dolor sit amet, consectetur adipiscing elit. Morbi auctor eros eu leo ultrices suscipit. Nulla facilisi\"\n",
    "set_s = set(s)\n",
    "print(set_s)"
   ]
  },
  {
   "cell_type": "code",
   "execution_count": 76,
   "metadata": {},
   "outputs": [],
   "source": [
    "a = {1, 2, 3, 4}\n",
    "b = {2, 4, 5}"
   ]
  },
  {
   "cell_type": "code",
   "execution_count": 77,
   "metadata": {},
   "outputs": [
    {
     "name": "stdout",
     "output_type": "stream",
     "text": [
      "{1, 3} {1, 2, 3, 4, 5} {2, 4}\n"
     ]
    }
   ],
   "source": [
    "c = a.difference(b)    # різниця\n",
    "d = a.union(b)         # об'єднання\n",
    "e = a.intersection(b)  # перетин\n",
    "\n",
    "print(c, d, e)"
   ]
  },
  {
   "cell_type": "code",
   "execution_count": 37,
   "metadata": {},
   "outputs": [],
   "source": [
    "c = b.difference(a)\n",
    "d = b.union(a)\n",
    "e = b.intersection(a)\n",
    "\n",
    "print(c, d, e)"
   ]
  },
  {
   "cell_type": "markdown",
   "metadata": {},
   "source": [
    "## ТЕСТОВА ЧАСТИНА\n",
    "\n",
    "<p style=\"color:red\"> разкоментуйте (уберіть '#') перший рядок (<b>#!!pip ...</b>) в наступному кодовому рядку і запустить рядок на виконання (може зайняти деякий час!)</p>"
   ]
  },
  {
   "cell_type": "code",
   "execution_count": 81,
   "metadata": {
    "run_control": {
     "marked": false
    },
    "tags": [
     "hide-input"
    ]
   },
   "outputs": [],
   "source": [
    "!!pip install otter-grader\n",
    "import otter\n",
    "grader = otter.Notebook()"
   ]
  },
  {
   "cell_type": "markdown",
   "metadata": {},
   "source": [
    "#### виконуйте завдання послідовно вписуючи на відведених місцях (...) свій код та перевіряйте  код запускаючи  'grader.check()'"
   ]
  },
  {
   "cell_type": "markdown",
   "metadata": {
    "deletable": false,
    "editable": false
   },
   "source": [
    "__Завдання 1__ \n",
    "1. створити пустий словник з ім'ям 'my_info'\n",
    "2. додати в словник наступні елементи\n",
    "  - своє ім'я (ключ = __name__)\n",
    "  - своє прізвище (ключ = __surname__)\n",
    "  - свій рік народження (ключ = __year_of_birth__)\n",
    "  - місяць народження (ключ = __month_of_birth__) як __число__\n",
    "<!--\n",
    "BEGIN QUESTION\n",
    "name: q1\n",
    "manual: false\n",
    "points: 1\n",
    "-->"
   ]
  },
  {
   "cell_type": "code",
   "execution_count": 98,
   "metadata": {
    "scrolled": true
   },
   "outputs": [
    {
     "data": {
      "text/plain": [
       "7442228955092919189"
      ]
     },
     "execution_count": 98,
     "metadata": {},
     "output_type": "execute_result"
    }
   ],
   "source": [
    "hash('month_of_birth')"
   ]
  },
  {
   "cell_type": "code",
   "execution_count": 99,
   "metadata": {
    "scrolled": true
   },
   "outputs": [
    {
     "data": {
      "text/plain": [
       "7395547742743915378"
      ]
     },
     "execution_count": 99,
     "metadata": {},
     "output_type": "execute_result"
    }
   ],
   "source": [
    "hash(' month_of_birth')"
   ]
  },
  {
   "cell_type": "code",
   "execution_count": 104,
   "metadata": {
    "run_control": {
     "marked": true
    }
   },
   "outputs": [],
   "source": [
    "my_info = {}\n",
    "my_info['name'] = 'john'\n",
    "my_info['surname'] = 'smith'\n",
    "my_info['year_of_birth'] = 2020\n",
    "my_info['month_of_birth'] = 10"
   ]
  },
  {
   "cell_type": "code",
   "execution_count": 105,
   "metadata": {
    "deletable": false,
    "editable": false
   },
   "outputs": [
    {
     "data": {
      "text/html": [
       "\n",
       "    \n",
       "    \n",
       "        <p>All tests passed!</p>\n",
       "    \n",
       "    "
      ],
      "text/plain": [
       "\n",
       "    All tests passed!\n",
       "    "
      ]
     },
     "execution_count": 105,
     "metadata": {},
     "output_type": "execute_result"
    }
   ],
   "source": [
    "grader.check(\"q1\")"
   ]
  },
  {
   "cell_type": "markdown",
   "metadata": {
    "deletable": false,
    "editable": false
   },
   "source": [
    "__Завдання 2__ \n",
    "1. Змінити поле __month_of_birth__ в словнику __my_info__ на назву місяця\n",
    "<!--\n",
    "BEGIN QUESTION\n",
    "name: q2\n",
    "manual: false\n",
    "points: 1\n",
    "-->"
   ]
  },
  {
   "cell_type": "code",
   "execution_count": 47,
   "metadata": {
    "collapsed": true,
    "run_control": {
     "marked": true
    }
   },
   "outputs": [],
   "source": []
  },
  {
   "cell_type": "code",
   "execution_count": null,
   "metadata": {
    "deletable": false,
    "editable": false
   },
   "outputs": [],
   "source": [
    "grader.check(\"q2\")"
   ]
  },
  {
   "cell_type": "markdown",
   "metadata": {
    "deletable": false,
    "editable": false
   },
   "source": [
    "__Завдання 3__ \n",
    "1. Зробити копію словника 'my_info' з ім'ям 'my_info_long'\n",
    "2. Додати в словник 'my_info_long' наступні поля і значення\n",
    "    - __'name_of_university'__ (текстове)\n",
    "    - __'faculty'__ (текстове)\n",
    "    - __'course'__ (числове)\n",
    "    - __'group'__ (текстове)\n",
    "    - __'budget'__(логічне)\n",
    "<!--\n",
    "BEGIN QUESTION\n",
    "name: q3\n",
    "manual: false\n",
    "points: 1\n",
    "-->"
   ]
  },
  {
   "cell_type": "code",
   "execution_count": 50,
   "metadata": {
    "code_folding": [],
    "run_control": {
     "marked": true
    }
   },
   "outputs": [],
   "source": [
    "# --- п.1\n",
    "my_info_long = ..."
   ]
  },
  {
   "cell_type": "code",
   "execution_count": null,
   "metadata": {
    "deletable": false,
    "editable": false
   },
   "outputs": [],
   "source": [
    "grader.check(\"q3\")"
   ]
  },
  {
   "cell_type": "code",
   "execution_count": 54,
   "metadata": {
    "run_control": {
     "marked": true
    }
   },
   "outputs": [],
   "source": [
    "# --- п.2\n",
    "..."
   ]
  },
  {
   "cell_type": "code",
   "execution_count": null,
   "metadata": {
    "deletable": false,
    "editable": false
   },
   "outputs": [],
   "source": [
    "grader.check(\"q4\")"
   ]
  },
  {
   "cell_type": "markdown",
   "metadata": {
    "deletable": false,
    "editable": false
   },
   "source": [
    "__Завдання 4__ \n",
    "\n",
    "\n",
    "Написати код, який знаходить спільні значення в множині  __set_a__ та __set_b__\n",
    "\n",
    "\n",
    "<!--\n",
    "BEGIN QUESTION\n",
    "name: q5\n",
    "manual: false\n",
    "points: 1\n",
    "-->"
   ]
  },
  {
   "cell_type": "code",
   "execution_count": 59,
   "metadata": {
    "run_control": {
     "marked": true
    }
   },
   "outputs": [],
   "source": [
    "set_a = {11, 14, 5, 12, 16, 44, 8}\n",
    "set_b = {22, 14, 4, 15, 8}\n",
    "\n",
    "set_c = ..."
   ]
  },
  {
   "cell_type": "code",
   "execution_count": null,
   "metadata": {
    "deletable": false,
    "editable": false
   },
   "outputs": [],
   "source": [
    "grader.check(\"q5\")"
   ]
  },
  {
   "cell_type": "markdown",
   "metadata": {
    "deletable": false,
    "editable": false
   },
   "source": [
    "__Завдання 5__ \n",
    "\n",
    "Підрахувати кількість __унікальних__ символів в тексті\n",
    "\n",
    "<!--\n",
    "BEGIN QUESTION\n",
    "name: q6\n",
    "manual: false\n",
    "points: 1\n",
    "-->"
   ]
  },
  {
   "cell_type": "code",
   "execution_count": 133,
   "metadata": {
    "run_control": {
     "marked": true
    }
   },
   "outputs": [],
   "source": [
    "some_text = \"\"\"Lorem ipsum dolor sit amet, consectetur adipiscing elit. \n",
    "Morbi auctor eros eu leo ultrices suscipit. \n",
    "Nulla facilisi. Fusce a cursus lectus. Sed erat erat, ultrices.\"\"\"\n",
    "\n",
    "...\n",
    "kol_uniq_symb = ..."
   ]
  },
  {
   "cell_type": "code",
   "execution_count": null,
   "metadata": {
    "deletable": false,
    "editable": false
   },
   "outputs": [],
   "source": [
    "grader.check(\"q6\")"
   ]
  },
  {
   "cell_type": "markdown",
   "metadata": {},
   "source": [
    "<h3 style=\"color:red\"> Наступні рядки виконувати не треба (це для викладача)\n",
    "</h3>\n"
   ]
  },
  {
   "cell_type": "markdown",
   "metadata": {
    "deletable": false,
    "editable": false
   },
   "source": [
    "---\n",
    "\n",
    "To double-check your work, the cell below will rerun all of the autograder tests."
   ]
  },
  {
   "cell_type": "code",
   "execution_count": null,
   "metadata": {
    "deletable": false,
    "editable": false
   },
   "outputs": [],
   "source": [
    "grader.check_all()"
   ]
  },
  {
   "cell_type": "markdown",
   "metadata": {
    "deletable": false,
    "editable": false
   },
   "source": [
    "## Submission\n",
    "\n",
    "Make sure you have run all cells in your notebook in order before running the cell below, so that all images/graphs appear in the output. The cell below will generate a zip file for you to submit. **Please save before exporting!**"
   ]
  },
  {
   "cell_type": "code",
   "execution_count": null,
   "metadata": {
    "deletable": false,
    "editable": false
   },
   "outputs": [],
   "source": [
    "# Save your notebook first, then run this cell to export your submission.\n",
    "grader.export(\"lab_3-assign_1.ipynb\")"
   ]
  },
  {
   "cell_type": "markdown",
   "metadata": {},
   "source": [
    " "
   ]
  }
 ],
 "metadata": {
  "kernelspec": {
   "display_name": "Python 3",
   "language": "python",
   "name": "python3"
  },
  "language_info": {
   "codemirror_mode": {
    "name": "ipython",
    "version": 3
   },
   "file_extension": ".py",
   "mimetype": "text/x-python",
   "name": "python",
   "nbconvert_exporter": "python",
   "pygments_lexer": "ipython3",
   "version": "3.7.4"
  }
 },
 "nbformat": 4,
 "nbformat_minor": 2
}
